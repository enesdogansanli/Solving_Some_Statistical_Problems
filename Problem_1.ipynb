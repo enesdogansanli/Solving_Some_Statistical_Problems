{
 "cells": [
  {
   "attachments": {},
   "cell_type": "markdown",
   "metadata": {},
   "source": [
    "# Problem 1"
   ]
  },
  {
   "attachments": {},
   "cell_type": "markdown",
   "metadata": {},
   "source": [
    "* Dataset Link : https://r-data.pmagunia.com/dataset/r-dataset-package-islr-carseats#google_vignette\n",
    "* Information for data : https://rdrr.io/cran/ISLR/man/Carseats.html\n",
    "\n",
    "* Bu veri seti ile bulunması gereken hesaplamalar aşağıda verilmiştir.\n",
    "  \n",
    "a.\tIncome ve education değişkenlerinin histogramlarını çizin. Histogramlar çift modlu mu yoksa tek modlu mu(bimodal or unimodal)? Eğik(skewed) mi, değil mi? Histogramın şeklini yorumlayınız.\n",
    "\n",
    "b.\tSales değişkeni için ortalama, medyan, varyans ve standart sapma ölçümlerini ve değişkenler arasındaki covaryansı hesaplayınız.\n",
    "\n",
    "c.\tAges değişkeni için 10, 25, 75, 90 niceliklerini hesaplayınız.\n",
    "\n",
    "d.\tTüm değişkenleri özetlemek için betimleyici istatistik bilgilerini hesaplayınız.\n"
   ]
  },
  {
   "cell_type": "code",
   "execution_count": 1,
   "metadata": {},
   "outputs": [],
   "source": [
    "import pandas as pd\n",
    "import numpy as np\n",
    "import matplotlib.pyplot as plt\n",
    "import seaborn as sns"
   ]
  },
  {
   "cell_type": "code",
   "execution_count": 3,
   "metadata": {},
   "outputs": [
    {
     "name": "stdout",
     "output_type": "stream",
     "text": [
      "##################### Shape #####################\n",
      "(400, 11)\n",
      "##################### Types #####################\n",
      "Sales          float64\n",
      "CompPrice        int64\n",
      "Income           int64\n",
      "Advertising      int64\n",
      "Population       int64\n",
      "Price            int64\n",
      "ShelveLoc       object\n",
      "Age              int64\n",
      "Education        int64\n",
      "Urban           object\n",
      "US              object\n",
      "dtype: object\n",
      "##################### Head #####################\n",
      "   Sales  CompPrice  Income  Advertising  Population  Price ShelveLoc  Age  \\\n",
      "0   9.50        138      73           11         276    120       Bad   42   \n",
      "1  11.22        111      48           16         260     83      Good   65   \n",
      "2  10.06        113      35           10         269     80    Medium   59   \n",
      "3   7.40        117     100            4         466     97    Medium   55   \n",
      "4   4.15        141      64            3         340    128       Bad   38   \n",
      "5  10.81        124     113           13         501     72       Bad   78   \n",
      "6   6.63        115     105            0          45    108    Medium   71   \n",
      "7  11.85        136      81           15         425    120      Good   67   \n",
      "8   6.54        132     110            0         108    124    Medium   76   \n",
      "9   4.69        132     113            0         131    124    Medium   76   \n",
      "\n",
      "   Education Urban   US  \n",
      "0         17   Yes  Yes  \n",
      "1         10   Yes  Yes  \n",
      "2         12   Yes  Yes  \n",
      "3         14   Yes  Yes  \n",
      "4         13   Yes   No  \n",
      "5         16    No  Yes  \n",
      "6         15   Yes   No  \n",
      "7         10   Yes  Yes  \n",
      "8         10    No   No  \n",
      "9         17    No  Yes  \n",
      "##################### Tail #####################\n",
      "     Sales  CompPrice  Income  Advertising  Population  Price ShelveLoc  Age  \\\n",
      "390   5.47        108      75            9          61    111    Medium   67   \n",
      "391   6.10        153      63            0          49    124       Bad   56   \n",
      "392   4.53        129      42           13         315    130       Bad   34   \n",
      "393   5.57        109      51           10          26    120    Medium   30   \n",
      "394   5.35        130      58           19         366    139       Bad   33   \n",
      "395  12.57        138     108           17         203    128      Good   33   \n",
      "396   6.14        139      23            3          37    120    Medium   55   \n",
      "397   7.41        162      26           12         368    159    Medium   40   \n",
      "398   5.94        100      79            7         284     95       Bad   50   \n",
      "399   9.71        134      37            0          27    120      Good   49   \n",
      "\n",
      "     Education Urban   US  \n",
      "390         12   Yes  Yes  \n",
      "391         16   Yes   No  \n",
      "392         13   Yes  Yes  \n",
      "393         17    No  Yes  \n",
      "394         16   Yes  Yes  \n",
      "395         14   Yes  Yes  \n",
      "396         11    No  Yes  \n",
      "397         18   Yes  Yes  \n",
      "398         12   Yes  Yes  \n",
      "399         16   Yes  Yes  \n",
      "##################### NA #####################\n",
      "Sales          0\n",
      "CompPrice      0\n",
      "Income         0\n",
      "Advertising    0\n",
      "Population     0\n",
      "Price          0\n",
      "ShelveLoc      0\n",
      "Age            0\n",
      "Education      0\n",
      "Urban          0\n",
      "US             0\n",
      "dtype: int64\n",
      "##################### Quantiles #####################\n",
      "             0.00    0.05    0.50      0.95      0.99    1.00\n",
      "Sales         0.0   3.149    7.49   12.4425   13.9146   16.27\n",
      "CompPrice    77.0  98.000  125.00  150.0000  159.0200  175.00\n",
      "Income       21.0  26.000   69.00  115.0000  119.0100  120.00\n",
      "Advertising   0.0   0.000    5.00   19.0000   23.0100   29.00\n",
      "Population   10.0  29.000  272.00  493.1500  504.0300  509.00\n",
      "Price        24.0  77.000  117.00  155.0500  166.0500  191.00\n",
      "Age          25.0  27.000   54.50   79.0000   80.0000   80.00\n",
      "Education    10.0  10.000   14.00   18.0000   18.0000   18.00\n",
      "##################### Corr #####################\n",
      "                Sales  CompPrice    Income  Advertising  Population     Price  \\\n",
      "Sales        1.000000   0.064079  0.151951     0.269507    0.050471 -0.444951   \n",
      "CompPrice    0.064079   1.000000 -0.080653    -0.024199   -0.094707  0.584848   \n",
      "Income       0.151951  -0.080653  1.000000     0.058995   -0.007877 -0.056698   \n",
      "Advertising  0.269507  -0.024199  0.058995     1.000000    0.265652  0.044537   \n",
      "Population   0.050471  -0.094707 -0.007877     0.265652    1.000000 -0.012144   \n",
      "Price       -0.444951   0.584848 -0.056698     0.044537   -0.012144  1.000000   \n",
      "Age         -0.231815  -0.100239 -0.004670    -0.004557   -0.042663 -0.102177   \n",
      "Education   -0.051955   0.025197 -0.056855    -0.033594   -0.106378  0.011747   \n",
      "\n",
      "                  Age  Education  \n",
      "Sales       -0.231815  -0.051955  \n",
      "CompPrice   -0.100239   0.025197  \n",
      "Income      -0.004670  -0.056855  \n",
      "Advertising -0.004557  -0.033594  \n",
      "Population  -0.042663  -0.106378  \n",
      "Price       -0.102177   0.011747  \n",
      "Age          1.000000   0.006488  \n",
      "Education    0.006488   1.000000  \n",
      "##################### Describe #####################\n",
      "            Sales   CompPrice      Income  Advertising  Population  \\\n",
      "count  400.000000  400.000000  400.000000   400.000000  400.000000   \n",
      "mean     7.496325  124.975000   68.657500     6.635000  264.840000   \n",
      "std      2.824115   15.334512   27.986037     6.650364  147.376436   \n",
      "min      0.000000   77.000000   21.000000     0.000000   10.000000   \n",
      "25%      5.390000  115.000000   42.750000     0.000000  139.000000   \n",
      "50%      7.490000  125.000000   69.000000     5.000000  272.000000   \n",
      "75%      9.320000  135.000000   91.000000    12.000000  398.500000   \n",
      "max     16.270000  175.000000  120.000000    29.000000  509.000000   \n",
      "\n",
      "            Price         Age   Education  \n",
      "count  400.000000  400.000000  400.000000  \n",
      "mean   115.795000   53.322500   13.900000  \n",
      "std     23.676664   16.200297    2.620528  \n",
      "min     24.000000   25.000000   10.000000  \n",
      "25%    100.000000   39.750000   12.000000  \n",
      "50%    117.000000   54.500000   14.000000  \n",
      "75%    131.000000   66.000000   16.000000  \n",
      "max    191.000000   80.000000   18.000000  \n"
     ]
    }
   ],
   "source": [
    "def check_df(dataframe, head=10):\n",
    "    '''\n",
    "    Provides general information about the loaded data.\n",
    "\n",
    "    Parameters\n",
    "    ----------\n",
    "    dataframe: dataframe\n",
    "    head: int\n",
    "\n",
    "    Notes\n",
    "    ----------\n",
    "    The head value is set to a constant 5.\n",
    "    '''\n",
    "    print(\"##################### Shape #####################\")\n",
    "    print(dataframe.shape)\n",
    "    print(\"##################### Types #####################\")\n",
    "    print(dataframe.dtypes)\n",
    "    print(\"##################### Head #####################\")\n",
    "    print(dataframe.head(head))\n",
    "    print(\"##################### Tail #####################\")\n",
    "    print(dataframe.tail(head))\n",
    "    print(\"##################### NA #####################\")\n",
    "    print(dataframe.isnull().sum())\n",
    "    print(\"##################### Quantiles #####################\")\n",
    "    print(dataframe.quantile([0, 0.05, 0.50, 0.95, 0.99, 1]).T)\n",
    "    print(\"##################### Corr #####################\")\n",
    "    print(dataframe.corr())\n",
    "    print(\"##################### Describe #####################\")\n",
    "    print(dataframe.describe())\n",
    "\n",
    "data = pd.read_csv('data/Data_For_Problem_1.csv')\n",
    "check_df(data)"
   ]
  },
  {
   "attachments": {},
   "cell_type": "markdown",
   "metadata": {},
   "source": [
    "### A Income ve education değişkenlerinin histogramlarını çizin. Histogramlar çift modlu mu yoksa tek modlu mu(bimodal or unimodal)? Eğik(skewed) mi, değil mi? Histogramın şeklini yorumlayınız."
   ]
  },
  {
   "cell_type": "code",
   "execution_count": 3,
   "metadata": {},
   "outputs": [
    {
     "data": {
      "text/plain": [
       "array([[<AxesSubplot:title={'center':'Income'}>]], dtype=object)"
      ]
     },
     "execution_count": 3,
     "metadata": {},
     "output_type": "execute_result"
    },
    {
     "data": {
      "image/png": "[encoded data removed]",
      "text/plain": [
       "<Figure size 432x288 with 1 Axes>"
      ]
     },
     "metadata": {
      "needs_background": "light"
     },
     "output_type": "display_data"
    }
   ],
   "source": [
    "data.hist(column='Income',grid=False,edgecolor='black', linewidth=1.2)"
   ]
  },
  {
   "cell_type": "code",
   "execution_count": 6,
   "metadata": {},
   "outputs": [
    {
     "data": {
      "text/plain": [
       "array([[<AxesSubplot:title={'center':'Education'}>]], dtype=object)"
      ]
     },
     "execution_count": 6,
     "metadata": {},
     "output_type": "execute_result"
    },
    {
     "data": {
      "image/png": "[encoded data removed]",
      "text/plain": [
       "<Figure size 432x288 with 1 Axes>"
      ]
     },
     "metadata": {
      "needs_background": "light"
     },
     "output_type": "display_data"
    }
   ],
   "source": [
    "bins = [10,11,12,13,14,15,16,17,18]\n",
    "data.hist(column='Education',grid=False,edgecolor='black', linewidth=1.2,bins=bins)"
   ]
  },
  {
   "attachments": {},
   "cell_type": "markdown",
   "metadata": {},
   "source": [
    "### b. Sales değişkeni için ortalama, medyan, varyans ve standart sapma ölçümlerini ve değişkenler arasındaki covaryansı hesaplayınız."
   ]
  },
  {
   "cell_type": "code",
   "execution_count": 28,
   "metadata": {},
   "outputs": [
    {
     "name": "stdout",
     "output_type": "stream",
     "text": [
      "Mean:  7.496325000000001\n",
      "Median:  7.49\n",
      "Variance:  7.975625808897243\n",
      "Standard Deviation:  2.824115048806837\n"
     ]
    }
   ],
   "source": [
    "def data_metrics(data, column):\n",
    "    print(\"Mean: \",data[column].mean())\n",
    "    print(\"Median: \",data[column].median())\n",
    "    print(\"Variance: \",data[column].var())\n",
    "    print(\"Standard Deviation: \",data[column].std())\n",
    "\n",
    "data_metrics(data,'Sales')"
   ]
  },
  {
   "cell_type": "code",
   "execution_count": 29,
   "metadata": {},
   "outputs": [
    {
     "data": {
      "text/html": [
       "<div>\n",
       "<style scoped>\n",
       "    .dataframe tbody tr th:only-of-type {\n",
       "        vertical-align: middle;\n",
       "    }\n",
       "\n",
       "    .dataframe tbody tr th {\n",
       "        vertical-align: top;\n",
       "    }\n",
       "\n",
       "    .dataframe thead th {\n",
       "        text-align: right;\n",
       "    }\n",
       "</style>\n",
       "<table border=\"1\" class=\"dataframe\">\n",
       "  <thead>\n",
       "    <tr style=\"text-align: right;\">\n",
       "      <th></th>\n",
       "      <th>Sales</th>\n",
       "      <th>CompPrice</th>\n",
       "      <th>Income</th>\n",
       "      <th>Advertising</th>\n",
       "      <th>Population</th>\n",
       "      <th>Price</th>\n",
       "      <th>Age</th>\n",
       "      <th>Education</th>\n",
       "    </tr>\n",
       "  </thead>\n",
       "  <tbody>\n",
       "    <tr>\n",
       "      <th>Sales</th>\n",
       "      <td>1.000000</td>\n",
       "      <td>0.064079</td>\n",
       "      <td>0.151951</td>\n",
       "      <td>0.269507</td>\n",
       "      <td>0.050471</td>\n",
       "      <td>-0.444951</td>\n",
       "      <td>-0.231815</td>\n",
       "      <td>-0.051955</td>\n",
       "    </tr>\n",
       "    <tr>\n",
       "      <th>CompPrice</th>\n",
       "      <td>0.064079</td>\n",
       "      <td>1.000000</td>\n",
       "      <td>-0.080653</td>\n",
       "      <td>-0.024199</td>\n",
       "      <td>-0.094707</td>\n",
       "      <td>0.584848</td>\n",
       "      <td>-0.100239</td>\n",
       "      <td>0.025197</td>\n",
       "    </tr>\n",
       "    <tr>\n",
       "      <th>Income</th>\n",
       "      <td>0.151951</td>\n",
       "      <td>-0.080653</td>\n",
       "      <td>1.000000</td>\n",
       "      <td>0.058995</td>\n",
       "      <td>-0.007877</td>\n",
       "      <td>-0.056698</td>\n",
       "      <td>-0.004670</td>\n",
       "      <td>-0.056855</td>\n",
       "    </tr>\n",
       "    <tr>\n",
       "      <th>Advertising</th>\n",
       "      <td>0.269507</td>\n",
       "      <td>-0.024199</td>\n",
       "      <td>0.058995</td>\n",
       "      <td>1.000000</td>\n",
       "      <td>0.265652</td>\n",
       "      <td>0.044537</td>\n",
       "      <td>-0.004557</td>\n",
       "      <td>-0.033594</td>\n",
       "    </tr>\n",
       "    <tr>\n",
       "      <th>Population</th>\n",
       "      <td>0.050471</td>\n",
       "      <td>-0.094707</td>\n",
       "      <td>-0.007877</td>\n",
       "      <td>0.265652</td>\n",
       "      <td>1.000000</td>\n",
       "      <td>-0.012144</td>\n",
       "      <td>-0.042663</td>\n",
       "      <td>-0.106378</td>\n",
       "    </tr>\n",
       "    <tr>\n",
       "      <th>Price</th>\n",
       "      <td>-0.444951</td>\n",
       "      <td>0.584848</td>\n",
       "      <td>-0.056698</td>\n",
       "      <td>0.044537</td>\n",
       "      <td>-0.012144</td>\n",
       "      <td>1.000000</td>\n",
       "      <td>-0.102177</td>\n",
       "      <td>0.011747</td>\n",
       "    </tr>\n",
       "    <tr>\n",
       "      <th>Age</th>\n",
       "      <td>-0.231815</td>\n",
       "      <td>-0.100239</td>\n",
       "      <td>-0.004670</td>\n",
       "      <td>-0.004557</td>\n",
       "      <td>-0.042663</td>\n",
       "      <td>-0.102177</td>\n",
       "      <td>1.000000</td>\n",
       "      <td>0.006488</td>\n",
       "    </tr>\n",
       "    <tr>\n",
       "      <th>Education</th>\n",
       "      <td>-0.051955</td>\n",
       "      <td>0.025197</td>\n",
       "      <td>-0.056855</td>\n",
       "      <td>-0.033594</td>\n",
       "      <td>-0.106378</td>\n",
       "      <td>0.011747</td>\n",
       "      <td>0.006488</td>\n",
       "      <td>1.000000</td>\n",
       "    </tr>\n",
       "  </tbody>\n",
       "</table>\n",
       "</div>"
      ],
      "text/plain": [
       "                Sales  CompPrice    Income  Advertising  Population     Price  \\\n",
       "Sales        1.000000   0.064079  0.151951     0.269507    0.050471 -0.444951   \n",
       "CompPrice    0.064079   1.000000 -0.080653    -0.024199   -0.094707  0.584848   \n",
       "Income       0.151951  -0.080653  1.000000     0.058995   -0.007877 -0.056698   \n",
       "Advertising  0.269507  -0.024199  0.058995     1.000000    0.265652  0.044537   \n",
       "Population   0.050471  -0.094707 -0.007877     0.265652    1.000000 -0.012144   \n",
       "Price       -0.444951   0.584848 -0.056698     0.044537   -0.012144  1.000000   \n",
       "Age         -0.231815  -0.100239 -0.004670    -0.004557   -0.042663 -0.102177   \n",
       "Education   -0.051955   0.025197 -0.056855    -0.033594   -0.106378  0.011747   \n",
       "\n",
       "                  Age  Education  \n",
       "Sales       -0.231815  -0.051955  \n",
       "CompPrice   -0.100239   0.025197  \n",
       "Income      -0.004670  -0.056855  \n",
       "Advertising -0.004557  -0.033594  \n",
       "Population  -0.042663  -0.106378  \n",
       "Price       -0.102177   0.011747  \n",
       "Age          1.000000   0.006488  \n",
       "Education    0.006488   1.000000  "
      ]
     },
     "execution_count": 29,
     "metadata": {},
     "output_type": "execute_result"
    }
   ],
   "source": [
    "data.corr()"
   ]
  },
  {
   "cell_type": "code",
   "execution_count": 4,
   "metadata": {},
   "outputs": [
    {
     "data": {
      "image/png": "[encoded data removed]",
      "text/plain": [
       "<Figure size 432x288 with 2 Axes>"
      ]
     },
     "metadata": {
      "needs_background": "light"
     },
     "output_type": "display_data"
    }
   ],
   "source": [
    "sns.heatmap(data.corr());"
   ]
  },
  {
   "attachments": {},
   "cell_type": "markdown",
   "metadata": {},
   "source": [
    "#### c. Ages değişkeni için 10, 25, 75, 90 niceliklerini hesaplayınız."
   ]
  },
  {
   "cell_type": "code",
   "execution_count": 5,
   "metadata": {},
   "outputs": [
    {
     "name": "stdout",
     "output_type": "stream",
     "text": [
      "[30.   39.75 66.   76.  ]\n"
     ]
    }
   ],
   "source": [
    "x = np.quantile(data['Age'], [0.1,0.25,0.75,0.9])\n",
    "print(x)"
   ]
  },
  {
   "attachments": {},
   "cell_type": "markdown",
   "metadata": {},
   "source": [
    "#### d. Tüm değişkenleri özetlemek için betimleyici istatistik bilgilerini hesaplayınız."
   ]
  },
  {
   "cell_type": "code",
   "execution_count": 6,
   "metadata": {},
   "outputs": [
    {
     "name": "stdout",
     "output_type": "stream",
     "text": [
      "##################### Shape #####################\n",
      "(400, 11)\n",
      "##################### Types #####################\n",
      "Sales          float64\n",
      "CompPrice        int64\n",
      "Income           int64\n",
      "Advertising      int64\n",
      "Population       int64\n",
      "Price            int64\n",
      "ShelveLoc       object\n",
      "Age              int64\n",
      "Education        int64\n",
      "Urban           object\n",
      "US              object\n",
      "dtype: object\n",
      "##################### Head #####################\n",
      "   Sales  CompPrice  Income  Advertising  Population  Price ShelveLoc  Age  \\\n",
      "0   9.50        138      73           11         276    120       Bad   42   \n",
      "1  11.22        111      48           16         260     83      Good   65   \n",
      "2  10.06        113      35           10         269     80    Medium   59   \n",
      "3   7.40        117     100            4         466     97    Medium   55   \n",
      "4   4.15        141      64            3         340    128       Bad   38   \n",
      "5  10.81        124     113           13         501     72       Bad   78   \n",
      "6   6.63        115     105            0          45    108    Medium   71   \n",
      "7  11.85        136      81           15         425    120      Good   67   \n",
      "8   6.54        132     110            0         108    124    Medium   76   \n",
      "9   4.69        132     113            0         131    124    Medium   76   \n",
      "\n",
      "   Education Urban   US  \n",
      "0         17   Yes  Yes  \n",
      "1         10   Yes  Yes  \n",
      "2         12   Yes  Yes  \n",
      "3         14   Yes  Yes  \n",
      "4         13   Yes   No  \n",
      "5         16    No  Yes  \n",
      "6         15   Yes   No  \n",
      "7         10   Yes  Yes  \n",
      "8         10    No   No  \n",
      "9         17    No  Yes  \n",
      "##################### Tail #####################\n",
      "     Sales  CompPrice  Income  Advertising  Population  Price ShelveLoc  Age  \\\n",
      "390   5.47        108      75            9          61    111    Medium   67   \n",
      "391   6.10        153      63            0          49    124       Bad   56   \n",
      "392   4.53        129      42           13         315    130       Bad   34   \n",
      "393   5.57        109      51           10          26    120    Medium   30   \n",
      "394   5.35        130      58           19         366    139       Bad   33   \n",
      "395  12.57        138     108           17         203    128      Good   33   \n",
      "396   6.14        139      23            3          37    120    Medium   55   \n",
      "397   7.41        162      26           12         368    159    Medium   40   \n",
      "398   5.94        100      79            7         284     95       Bad   50   \n",
      "399   9.71        134      37            0          27    120      Good   49   \n",
      "\n",
      "     Education Urban   US  \n",
      "390         12   Yes  Yes  \n",
      "391         16   Yes   No  \n",
      "392         13   Yes  Yes  \n",
      "393         17    No  Yes  \n",
      "394         16   Yes  Yes  \n",
      "395         14   Yes  Yes  \n",
      "396         11    No  Yes  \n",
      "397         18   Yes  Yes  \n",
      "398         12   Yes  Yes  \n",
      "399         16   Yes  Yes  \n",
      "##################### NA #####################\n",
      "Sales          0\n",
      "CompPrice      0\n",
      "Income         0\n",
      "Advertising    0\n",
      "Population     0\n",
      "Price          0\n",
      "ShelveLoc      0\n",
      "Age            0\n",
      "Education      0\n",
      "Urban          0\n",
      "US             0\n",
      "dtype: int64\n",
      "##################### Quantiles #####################\n",
      "             0.00    0.05    0.50      0.95      0.99    1.00\n",
      "Sales         0.0   3.149    7.49   12.4425   13.9146   16.27\n",
      "CompPrice    77.0  98.000  125.00  150.0000  159.0200  175.00\n",
      "Income       21.0  26.000   69.00  115.0000  119.0100  120.00\n",
      "Advertising   0.0   0.000    5.00   19.0000   23.0100   29.00\n",
      "Population   10.0  29.000  272.00  493.1500  504.0300  509.00\n",
      "Price        24.0  77.000  117.00  155.0500  166.0500  191.00\n",
      "Age          25.0  27.000   54.50   79.0000   80.0000   80.00\n",
      "Education    10.0  10.000   14.00   18.0000   18.0000   18.00\n",
      "##################### Corr #####################\n",
      "                Sales  CompPrice    Income  Advertising  Population     Price  \\\n",
      "Sales        1.000000   0.064079  0.151951     0.269507    0.050471 -0.444951   \n",
      "CompPrice    0.064079   1.000000 -0.080653    -0.024199   -0.094707  0.584848   \n",
      "Income       0.151951  -0.080653  1.000000     0.058995   -0.007877 -0.056698   \n",
      "Advertising  0.269507  -0.024199  0.058995     1.000000    0.265652  0.044537   \n",
      "Population   0.050471  -0.094707 -0.007877     0.265652    1.000000 -0.012144   \n",
      "Price       -0.444951   0.584848 -0.056698     0.044537   -0.012144  1.000000   \n",
      "Age         -0.231815  -0.100239 -0.004670    -0.004557   -0.042663 -0.102177   \n",
      "Education   -0.051955   0.025197 -0.056855    -0.033594   -0.106378  0.011747   \n",
      "\n",
      "                  Age  Education  \n",
      "Sales       -0.231815  -0.051955  \n",
      "CompPrice   -0.100239   0.025197  \n",
      "Income      -0.004670  -0.056855  \n",
      "Advertising -0.004557  -0.033594  \n",
      "Population  -0.042663  -0.106378  \n",
      "Price       -0.102177   0.011747  \n",
      "Age          1.000000   0.006488  \n",
      "Education    0.006488   1.000000  \n",
      "##################### Describe #####################\n",
      "            Sales   CompPrice      Income  Advertising  Population  \\\n",
      "count  400.000000  400.000000  400.000000   400.000000  400.000000   \n",
      "mean     7.496325  124.975000   68.657500     6.635000  264.840000   \n",
      "std      2.824115   15.334512   27.986037     6.650364  147.376436   \n",
      "min      0.000000   77.000000   21.000000     0.000000   10.000000   \n",
      "25%      5.390000  115.000000   42.750000     0.000000  139.000000   \n",
      "50%      7.490000  125.000000   69.000000     5.000000  272.000000   \n",
      "75%      9.320000  135.000000   91.000000    12.000000  398.500000   \n",
      "max     16.270000  175.000000  120.000000    29.000000  509.000000   \n",
      "\n",
      "            Price         Age   Education  \n",
      "count  400.000000  400.000000  400.000000  \n",
      "mean   115.795000   53.322500   13.900000  \n",
      "std     23.676664   16.200297    2.620528  \n",
      "min     24.000000   25.000000   10.000000  \n",
      "25%    100.000000   39.750000   12.000000  \n",
      "50%    117.000000   54.500000   14.000000  \n",
      "75%    131.000000   66.000000   16.000000  \n",
      "max    191.000000   80.000000   18.000000  \n"
     ]
    }
   ],
   "source": [
    "check_df(data)"
   ]
  }
 ],
 "metadata": {
  "kernelspec": {
   "display_name": "Python 3",
   "language": "python",
   "name": "python3"
  },
  "language_info": {
   "codemirror_mode": {
    "name": "ipython",
    "version": 3
   },
   "file_extension": ".py",
   "mimetype": "text/x-python",
   "name": "python",
   "nbconvert_exporter": "python",
   "pygments_lexer": "ipython3",
   "version": "3.9.13"
  },
  "orig_nbformat": 4
 },
 "nbformat": 4,
 "nbformat_minor": 2
}
