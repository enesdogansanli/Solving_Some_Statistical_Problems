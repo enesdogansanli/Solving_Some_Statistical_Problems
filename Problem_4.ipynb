{
 "cells": [
  {
   "attachments": {},
   "cell_type": "markdown",
   "metadata": {},
   "source": [
    "# Problem 4"
   ]
  },
  {
   "attachments": {},
   "cell_type": "markdown",
   "metadata": {},
   "source": [
    "### LINKS\n",
    "\n",
    "* DATA : https://r-data.pmagunia.com/dataset/r-dataset-package-mass-pimatr#google_vignette"
   ]
  },
  {
   "cell_type": "code",
   "execution_count": 1,
   "metadata": {},
   "outputs": [],
   "source": [
    "import pandas as pd\n",
    "import numpy as np\n",
    "import matplotlib.pyplot as plt\n",
    "from scipy.stats import ttest_1samp, ttest_ind, chi2_contingency\n",
    "from statsmodels.stats.weightstats import ztest"
   ]
  },
  {
   "cell_type": "code",
   "execution_count": 2,
   "metadata": {},
   "outputs": [
    {
     "data": {
      "text/html": [
       "<div>\n",
       "<style scoped>\n",
       "    .dataframe tbody tr th:only-of-type {\n",
       "        vertical-align: middle;\n",
       "    }\n",
       "\n",
       "    .dataframe tbody tr th {\n",
       "        vertical-align: top;\n",
       "    }\n",
       "\n",
       "    .dataframe thead th {\n",
       "        text-align: right;\n",
       "    }\n",
       "</style>\n",
       "<table border=\"1\" class=\"dataframe\">\n",
       "  <thead>\n",
       "    <tr style=\"text-align: right;\">\n",
       "      <th></th>\n",
       "      <th>npreg</th>\n",
       "      <th>glu</th>\n",
       "      <th>bp</th>\n",
       "      <th>skin</th>\n",
       "      <th>bmi</th>\n",
       "      <th>ped</th>\n",
       "      <th>age</th>\n",
       "      <th>type</th>\n",
       "    </tr>\n",
       "  </thead>\n",
       "  <tbody>\n",
       "    <tr>\n",
       "      <th>0</th>\n",
       "      <td>5</td>\n",
       "      <td>86</td>\n",
       "      <td>68</td>\n",
       "      <td>28</td>\n",
       "      <td>30.2</td>\n",
       "      <td>0.364</td>\n",
       "      <td>24</td>\n",
       "      <td>No</td>\n",
       "    </tr>\n",
       "    <tr>\n",
       "      <th>1</th>\n",
       "      <td>7</td>\n",
       "      <td>195</td>\n",
       "      <td>70</td>\n",
       "      <td>33</td>\n",
       "      <td>25.1</td>\n",
       "      <td>0.163</td>\n",
       "      <td>55</td>\n",
       "      <td>Yes</td>\n",
       "    </tr>\n",
       "    <tr>\n",
       "      <th>2</th>\n",
       "      <td>5</td>\n",
       "      <td>77</td>\n",
       "      <td>82</td>\n",
       "      <td>41</td>\n",
       "      <td>35.8</td>\n",
       "      <td>0.156</td>\n",
       "      <td>35</td>\n",
       "      <td>No</td>\n",
       "    </tr>\n",
       "    <tr>\n",
       "      <th>3</th>\n",
       "      <td>0</td>\n",
       "      <td>165</td>\n",
       "      <td>76</td>\n",
       "      <td>43</td>\n",
       "      <td>47.9</td>\n",
       "      <td>0.259</td>\n",
       "      <td>26</td>\n",
       "      <td>No</td>\n",
       "    </tr>\n",
       "    <tr>\n",
       "      <th>4</th>\n",
       "      <td>0</td>\n",
       "      <td>107</td>\n",
       "      <td>60</td>\n",
       "      <td>25</td>\n",
       "      <td>26.4</td>\n",
       "      <td>0.133</td>\n",
       "      <td>23</td>\n",
       "      <td>No</td>\n",
       "    </tr>\n",
       "  </tbody>\n",
       "</table>\n",
       "</div>"
      ],
      "text/plain": [
       "   npreg  glu  bp  skin   bmi    ped  age type\n",
       "0      5   86  68    28  30.2  0.364   24   No\n",
       "1      7  195  70    33  25.1  0.163   55  Yes\n",
       "2      5   77  82    41  35.8  0.156   35   No\n",
       "3      0  165  76    43  47.9  0.259   26   No\n",
       "4      0  107  60    25  26.4  0.133   23   No"
      ]
     },
     "execution_count": 2,
     "metadata": {},
     "output_type": "execute_result"
    }
   ],
   "source": [
    "# Load the dataset\n",
    "data = pd.read_csv('data/Data_For_Problem_4.csv')\n",
    "data.head()"
   ]
  },
  {
   "cell_type": "code",
   "execution_count": 3,
   "metadata": {},
   "outputs": [
    {
     "name": "stdout",
     "output_type": "stream",
     "text": [
      "##################### Shape #####################\n",
      "(200, 8)\n",
      "##################### Types #####################\n",
      "npreg      int64\n",
      "glu        int64\n",
      "bp         int64\n",
      "skin       int64\n",
      "bmi      float64\n",
      "ped      float64\n",
      "age        int64\n",
      "type      object\n",
      "dtype: object\n",
      "##################### Head #####################\n",
      "   npreg  glu  bp  skin   bmi    ped  age type\n",
      "0      5   86  68    28  30.2  0.364   24   No\n",
      "1      7  195  70    33  25.1  0.163   55  Yes\n",
      "2      5   77  82    41  35.8  0.156   35   No\n",
      "3      0  165  76    43  47.9  0.259   26   No\n",
      "4      0  107  60    25  26.4  0.133   23   No\n",
      "5      5   97  76    27  35.6  0.378   52  Yes\n",
      "6      3   83  58    31  34.3  0.336   25   No\n",
      "7      1  193  50    16  25.9  0.655   24   No\n",
      "8      3  142  80    15  32.4  0.200   63   No\n",
      "9      2  128  78    37  43.3  1.224   31  Yes\n",
      "##################### Tail #####################\n",
      "     npreg  glu  bp  skin   bmi    ped  age type\n",
      "190      0  119  64    18  34.9  0.725   23   No\n",
      "191      5  155  84    44  38.7  0.619   34   No\n",
      "192      1  128  48    45  40.5  0.613   24  Yes\n",
      "193      2  112  68    22  34.1  0.315   26   No\n",
      "194      1  140  74    26  24.1  0.828   23   No\n",
      "195      2  141  58    34  25.4  0.699   24   No\n",
      "196      7  129  68    49  38.5  0.439   43  Yes\n",
      "197      0  106  70    37  39.4  0.605   22   No\n",
      "198      1  118  58    36  33.3  0.261   23   No\n",
      "199      8  155  62    26  34.0  0.543   46  Yes\n",
      "##################### NA #####################\n",
      "npreg    0\n",
      "glu      0\n",
      "bp       0\n",
      "skin     0\n",
      "bmi      0\n",
      "ped      0\n",
      "age      0\n",
      "type     0\n",
      "dtype: int64\n",
      "##################### Quantiles #####################\n",
      "         0.00     0.05      0.50       0.95       0.99     1.00\n",
      "npreg   0.000   0.0000    2.0000   10.05000   13.01000   14.000\n",
      "glu    56.000  79.9500  120.5000  187.05000  197.01000  199.000\n",
      "bp     38.000  53.9000   70.0000   90.00000  102.04000  110.000\n",
      "skin    7.000  12.0000   29.0000   46.00000   52.08000   99.000\n",
      "bmi    18.200  22.4850   32.8000   42.61500   46.30500   47.900\n",
      "ped     0.085   0.1379    0.3725    0.96965    1.39704    2.288\n",
      "age    21.000  21.0000   28.0000   57.05000   62.00000   63.000\n",
      "##################### Corr #####################\n",
      "          npreg       glu        bp      skin       bmi       ped       age\n",
      "npreg  1.000000  0.170525  0.252061  0.109049  0.058336 -0.119473  0.598922\n",
      "glu    0.170525  1.000000  0.269381  0.217597  0.216790  0.060710  0.343407\n",
      "bp     0.252061  0.269381  1.000000  0.264963  0.238821 -0.047400  0.391073\n",
      "skin   0.109049  0.217597  0.264963  1.000000  0.659036  0.095403  0.251926\n",
      "bmi    0.058336  0.216790  0.238821  0.659036  1.000000  0.190551  0.131920\n",
      "ped   -0.119473  0.060710 -0.047400  0.095403  0.190551  1.000000 -0.071410\n",
      "age    0.598922  0.343407  0.391073  0.251926  0.131920 -0.071410  1.000000\n",
      "##################### Describe #####################\n",
      "            npreg         glu          bp        skin         bmi         ped  \\\n",
      "count  200.000000  200.000000  200.000000  200.000000  200.000000  200.000000   \n",
      "mean     3.570000  123.970000   71.260000   29.215000   32.310000    0.460765   \n",
      "std      3.366268   31.667225   11.479604   11.724594    6.130212    0.307225   \n",
      "min      0.000000   56.000000   38.000000    7.000000   18.200000    0.085000   \n",
      "25%      1.000000  100.000000   64.000000   20.750000   27.575000    0.253500   \n",
      "50%      2.000000  120.500000   70.000000   29.000000   32.800000    0.372500   \n",
      "75%      6.000000  144.000000   78.000000   36.000000   36.500000    0.616000   \n",
      "max     14.000000  199.000000  110.000000   99.000000   47.900000    2.288000   \n",
      "\n",
      "              age  \n",
      "count  200.000000  \n",
      "mean    32.110000  \n",
      "std     10.975436  \n",
      "min     21.000000  \n",
      "25%     23.000000  \n",
      "50%     28.000000  \n",
      "75%     39.250000  \n",
      "max     63.000000  \n"
     ]
    }
   ],
   "source": [
    "def check_df(dataframe, head=10):\n",
    "    '''\n",
    "    Provides general information about the loaded data.\n",
    "\n",
    "    Parameters\n",
    "    ----------\n",
    "    dataframe: dataframe\n",
    "    head: int\n",
    "\n",
    "    Notes\n",
    "    ----------\n",
    "    The head value is set to a constant 5.\n",
    "    '''\n",
    "    print(\"##################### Shape #####################\")\n",
    "    print(dataframe.shape)\n",
    "    print(\"##################### Types #####################\")\n",
    "    print(dataframe.dtypes)\n",
    "    print(\"##################### Head #####################\")\n",
    "    print(dataframe.head(head))\n",
    "    print(\"##################### Tail #####################\")\n",
    "    print(dataframe.tail(head))\n",
    "    print(\"##################### NA #####################\")\n",
    "    print(dataframe.isnull().sum())\n",
    "    print(\"##################### Quantiles #####################\")\n",
    "    print(dataframe.quantile([0, 0.05, 0.50, 0.95, 0.99, 1]).T)\n",
    "    print(\"##################### Corr #####################\")\n",
    "    print(dataframe.corr())\n",
    "    print(\"##################### Describe #####################\")\n",
    "    print(dataframe.describe())\n",
    "\n",
    "check_df(data)"
   ]
  },
  {
   "cell_type": "code",
   "execution_count": 4,
   "metadata": {},
   "outputs": [
    {
     "name": "stdout",
     "output_type": "stream",
     "text": [
      "Mean:  71.26\n",
      "Median:  70.0\n",
      "Variance:  131.7813065326633\n",
      "Standard Deviation:  11.479603936228083\n"
     ]
    }
   ],
   "source": [
    "def data_metrics(data, column):\n",
    "    print(\"Mean: \",data[column].mean())\n",
    "    print(\"Median: \",data[column].median())\n",
    "    print(\"Variance: \",data[column].var())\n",
    "    print(\"Standard Deviation: \",data[column].std())\n",
    "\n",
    "data_metrics(data,'bp')"
   ]
  },
  {
   "attachments": {},
   "cell_type": "markdown",
   "metadata": {},
   "source": [
    "#### a. Pima Kızılderili kadınları için diyastolik kan basıncının popülasyon ortalamasının 70 olmadığı hipotezini değerlendiriniz."
   ]
  },
  {
   "cell_type": "code",
   "execution_count": 5,
   "metadata": {},
   "outputs": [
    {
     "data": {
      "text/plain": [
       "array([[<AxesSubplot:title={'center':'bp'}>]], dtype=object)"
      ]
     },
     "execution_count": 5,
     "metadata": {},
     "output_type": "execute_result"
    },
    {
     "data": {
      "image/png": "[encoded data removed]",
      "text/plain": [
       "<Figure size 640x480 with 1 Axes>"
      ]
     },
     "metadata": {},
     "output_type": "display_data"
    }
   ],
   "source": [
    "data.hist(column='bp',grid=False,edgecolor='black', linewidth=1.2)"
   ]
  },
  {
   "cell_type": "code",
   "execution_count": 6,
   "metadata": {},
   "outputs": [
    {
     "name": "stdout",
     "output_type": "stream",
     "text": [
      "One-sample t-test results:\n",
      "Null hypothesis: The population mean of diastolic blood pressure is 70\n",
      "Alternative hypothesis: The population mean of diastolic blood pressure is not 70\n",
      "Test statistic: 1.5522391700001443\n",
      "P-value: 0.12219390499331204\n",
      "Not to Reject NUll Hypothesis\n"
     ]
    }
   ],
   "source": [
    "diastolic_blood_pressure = data['bp']\n",
    "\n",
    "t_statistic, p_value = ttest_1samp(diastolic_blood_pressure, 70,alternative='two-sided')\n",
    "\n",
    "print(\"One-sample t-test results:\")\n",
    "print(\"Null hypothesis: The population mean of diastolic blood pressure is 70\")\n",
    "print(\"Alternative hypothesis: The population mean of diastolic blood pressure is not 70\")\n",
    "print(\"Test statistic:\", t_statistic)\n",
    "print(\"P-value:\", p_value)\n",
    "\n",
    "if(p_value <  0.05):\n",
    "    print(\"Reject Null Hypothesis\")\n",
    "else:\n",
    "    print(\"Not to Reject NUll Hypothesis\")"
   ]
  },
  {
   "attachments": {},
   "cell_type": "markdown",
   "metadata": {},
   "source": [
    "#### b. Diyabetik ve diyabetik olmayan Pima Kızılderili kadınlar için diyastolik kan basıncının örnek ortalamaları arasındaki farkı bulunuz. Diyastolik kan basıncı ortalamaları arasındaki fark 0.01 düzeyinde istatistiksel olarak anlamlı mı?"
   ]
  },
  {
   "cell_type": "code",
   "execution_count": 7,
   "metadata": {},
   "outputs": [
    {
     "data": {
      "text/html": [
       "<div>\n",
       "<style scoped>\n",
       "    .dataframe tbody tr th:only-of-type {\n",
       "        vertical-align: middle;\n",
       "    }\n",
       "\n",
       "    .dataframe tbody tr th {\n",
       "        vertical-align: top;\n",
       "    }\n",
       "\n",
       "    .dataframe thead th {\n",
       "        text-align: right;\n",
       "    }\n",
       "</style>\n",
       "<table border=\"1\" class=\"dataframe\">\n",
       "  <thead>\n",
       "    <tr style=\"text-align: right;\">\n",
       "      <th></th>\n",
       "      <th>npreg</th>\n",
       "      <th>glu</th>\n",
       "      <th>bp</th>\n",
       "      <th>skin</th>\n",
       "      <th>bmi</th>\n",
       "      <th>ped</th>\n",
       "      <th>age</th>\n",
       "      <th>type</th>\n",
       "    </tr>\n",
       "  </thead>\n",
       "  <tbody>\n",
       "    <tr>\n",
       "      <th>1</th>\n",
       "      <td>7</td>\n",
       "      <td>195</td>\n",
       "      <td>70</td>\n",
       "      <td>33</td>\n",
       "      <td>25.1</td>\n",
       "      <td>0.163</td>\n",
       "      <td>55</td>\n",
       "      <td>Yes</td>\n",
       "    </tr>\n",
       "    <tr>\n",
       "      <th>5</th>\n",
       "      <td>5</td>\n",
       "      <td>97</td>\n",
       "      <td>76</td>\n",
       "      <td>27</td>\n",
       "      <td>35.6</td>\n",
       "      <td>0.378</td>\n",
       "      <td>52</td>\n",
       "      <td>Yes</td>\n",
       "    </tr>\n",
       "    <tr>\n",
       "      <th>9</th>\n",
       "      <td>2</td>\n",
       "      <td>128</td>\n",
       "      <td>78</td>\n",
       "      <td>37</td>\n",
       "      <td>43.3</td>\n",
       "      <td>1.224</td>\n",
       "      <td>31</td>\n",
       "      <td>Yes</td>\n",
       "    </tr>\n",
       "    <tr>\n",
       "      <th>10</th>\n",
       "      <td>0</td>\n",
       "      <td>137</td>\n",
       "      <td>40</td>\n",
       "      <td>35</td>\n",
       "      <td>43.1</td>\n",
       "      <td>2.288</td>\n",
       "      <td>33</td>\n",
       "      <td>Yes</td>\n",
       "    </tr>\n",
       "    <tr>\n",
       "      <th>12</th>\n",
       "      <td>1</td>\n",
       "      <td>189</td>\n",
       "      <td>60</td>\n",
       "      <td>23</td>\n",
       "      <td>30.1</td>\n",
       "      <td>0.398</td>\n",
       "      <td>59</td>\n",
       "      <td>Yes</td>\n",
       "    </tr>\n",
       "  </tbody>\n",
       "</table>\n",
       "</div>"
      ],
      "text/plain": [
       "    npreg  glu  bp  skin   bmi    ped  age type\n",
       "1       7  195  70    33  25.1  0.163   55  Yes\n",
       "5       5   97  76    27  35.6  0.378   52  Yes\n",
       "9       2  128  78    37  43.3  1.224   31  Yes\n",
       "10      0  137  40    35  43.1  2.288   33  Yes\n",
       "12      1  189  60    23  30.1  0.398   59  Yes"
      ]
     },
     "execution_count": 7,
     "metadata": {},
     "output_type": "execute_result"
    }
   ],
   "source": [
    "diastolic = (data[data['type']=='Yes'])\n",
    "diastolic.head()"
   ]
  },
  {
   "cell_type": "code",
   "execution_count": 8,
   "metadata": {},
   "outputs": [
    {
     "data": {
      "text/plain": [
       "74.58823529411765"
      ]
     },
     "execution_count": 8,
     "metadata": {},
     "output_type": "execute_result"
    }
   ],
   "source": [
    "diastolic['bp'].mean()"
   ]
  },
  {
   "cell_type": "code",
   "execution_count": 9,
   "metadata": {},
   "outputs": [
    {
     "data": {
      "text/plain": [
       "1     -4.588235\n",
       "5      1.411765\n",
       "9      3.411765\n",
       "10   -34.588235\n",
       "12   -14.588235\n",
       "Name: bp, dtype: float64"
      ]
     },
     "execution_count": 9,
     "metadata": {},
     "output_type": "execute_result"
    }
   ],
   "source": [
    "diastolic_mean = diastolic['bp']-diastolic['bp'].mean()\n",
    "diastolic_mean.head()"
   ]
  },
  {
   "cell_type": "code",
   "execution_count": 10,
   "metadata": {},
   "outputs": [
    {
     "data": {
      "text/plain": [
       "(68,)"
      ]
     },
     "execution_count": 10,
     "metadata": {},
     "output_type": "execute_result"
    }
   ],
   "source": [
    "diastolic_mean.shape"
   ]
  },
  {
   "cell_type": "code",
   "execution_count": 39,
   "metadata": {},
   "outputs": [
    {
     "data": {
      "text/html": [
       "<div>\n",
       "<style scoped>\n",
       "    .dataframe tbody tr th:only-of-type {\n",
       "        vertical-align: middle;\n",
       "    }\n",
       "\n",
       "    .dataframe tbody tr th {\n",
       "        vertical-align: top;\n",
       "    }\n",
       "\n",
       "    .dataframe thead th {\n",
       "        text-align: right;\n",
       "    }\n",
       "</style>\n",
       "<table border=\"1\" class=\"dataframe\">\n",
       "  <thead>\n",
       "    <tr style=\"text-align: right;\">\n",
       "      <th></th>\n",
       "      <th>npreg</th>\n",
       "      <th>glu</th>\n",
       "      <th>bp</th>\n",
       "      <th>skin</th>\n",
       "      <th>bmi</th>\n",
       "      <th>ped</th>\n",
       "      <th>age</th>\n",
       "      <th>type</th>\n",
       "    </tr>\n",
       "  </thead>\n",
       "  <tbody>\n",
       "    <tr>\n",
       "      <th>0</th>\n",
       "      <td>5</td>\n",
       "      <td>86</td>\n",
       "      <td>68</td>\n",
       "      <td>28</td>\n",
       "      <td>30.2</td>\n",
       "      <td>0.364</td>\n",
       "      <td>24</td>\n",
       "      <td>No</td>\n",
       "    </tr>\n",
       "    <tr>\n",
       "      <th>2</th>\n",
       "      <td>5</td>\n",
       "      <td>77</td>\n",
       "      <td>82</td>\n",
       "      <td>41</td>\n",
       "      <td>35.8</td>\n",
       "      <td>0.156</td>\n",
       "      <td>35</td>\n",
       "      <td>No</td>\n",
       "    </tr>\n",
       "    <tr>\n",
       "      <th>3</th>\n",
       "      <td>0</td>\n",
       "      <td>165</td>\n",
       "      <td>76</td>\n",
       "      <td>43</td>\n",
       "      <td>47.9</td>\n",
       "      <td>0.259</td>\n",
       "      <td>26</td>\n",
       "      <td>No</td>\n",
       "    </tr>\n",
       "    <tr>\n",
       "      <th>4</th>\n",
       "      <td>0</td>\n",
       "      <td>107</td>\n",
       "      <td>60</td>\n",
       "      <td>25</td>\n",
       "      <td>26.4</td>\n",
       "      <td>0.133</td>\n",
       "      <td>23</td>\n",
       "      <td>No</td>\n",
       "    </tr>\n",
       "    <tr>\n",
       "      <th>6</th>\n",
       "      <td>3</td>\n",
       "      <td>83</td>\n",
       "      <td>58</td>\n",
       "      <td>31</td>\n",
       "      <td>34.3</td>\n",
       "      <td>0.336</td>\n",
       "      <td>25</td>\n",
       "      <td>No</td>\n",
       "    </tr>\n",
       "  </tbody>\n",
       "</table>\n",
       "</div>"
      ],
      "text/plain": [
       "   npreg  glu  bp  skin   bmi    ped  age type\n",
       "0      5   86  68    28  30.2  0.364   24   No\n",
       "2      5   77  82    41  35.8  0.156   35   No\n",
       "3      0  165  76    43  47.9  0.259   26   No\n",
       "4      0  107  60    25  26.4  0.133   23   No\n",
       "6      3   83  58    31  34.3  0.336   25   No"
      ]
     },
     "execution_count": 39,
     "metadata": {},
     "output_type": "execute_result"
    }
   ],
   "source": [
    "not_diastolic = (data[data['type']=='No']) \n",
    "not_diastolic.head()"
   ]
  },
  {
   "cell_type": "code",
   "execution_count": 40,
   "metadata": {},
   "outputs": [
    {
     "data": {
      "text/plain": [
       "69.54545454545455"
      ]
     },
     "execution_count": 40,
     "metadata": {},
     "output_type": "execute_result"
    }
   ],
   "source": [
    "not_diastolic['bp'].mean()"
   ]
  },
  {
   "cell_type": "code",
   "execution_count": 41,
   "metadata": {},
   "outputs": [
    {
     "data": {
      "text/plain": [
       "0    -1.545455\n",
       "2    12.454545\n",
       "3     6.454545\n",
       "4    -9.545455\n",
       "6   -11.545455\n",
       "Name: bp, dtype: float64"
      ]
     },
     "execution_count": 41,
     "metadata": {},
     "output_type": "execute_result"
    }
   ],
   "source": [
    "not_diastolic_mean = not_diastolic['bp']-not_diastolic['bp'].mean()\n",
    "not_diastolic_mean.head()"
   ]
  },
  {
   "cell_type": "code",
   "execution_count": 42,
   "metadata": {},
   "outputs": [
    {
     "data": {
      "text/plain": [
       "(132,)"
      ]
     },
     "execution_count": 42,
     "metadata": {},
     "output_type": "execute_result"
    }
   ],
   "source": [
    "not_diastolic_mean.shape"
   ]
  },
  {
   "cell_type": "code",
   "execution_count": 45,
   "metadata": {},
   "outputs": [
    {
     "name": "stdout",
     "output_type": "stream",
     "text": [
      "Two Sample (Independent) t-test results:\n",
      "Null hypothesis: Same population\n",
      "Alternative hypothesis: Different population\n",
      "Test statistic: -2.2163698833943503e-15\n",
      "P-value: 0.9999999999999982\n",
      "Not to Reject NUll Hypothesis\n"
     ]
    }
   ],
   "source": [
    "t_statistic, p_value = ttest_ind(diastolic_mean,not_diastolic_mean,alternative='two-sided')\n",
    "\n",
    "print(\"Two Sample (Independent) t-test results:\")\n",
    "print(\"Null hypothesis: Same population\")\n",
    "print(\"Alternative hypothesis: Different population\")\n",
    "print(\"Test statistic:\", t_statistic)\n",
    "print(\"P-value:\", p_value)\n",
    "\n",
    "if(p_value <  0.01):\n",
    "    print(\"Reject Null Hypothesis\")\n",
    "else:\n",
    "    print(\"Not to Reject NUll Hypothesis\")"
   ]
  }
 ],
 "metadata": {
  "kernelspec": {
   "display_name": "Python 3",
   "language": "python",
   "name": "python3"
  },
  "language_info": {
   "codemirror_mode": {
    "name": "ipython",
    "version": 3
   },
   "file_extension": ".py",
   "mimetype": "text/x-python",
   "name": "python",
   "nbconvert_exporter": "python",
   "pygments_lexer": "ipython3",
   "version": "3.9.13"
  },
  "orig_nbformat": 4
 },
 "nbformat": 4,
 "nbformat_minor": 2
}
